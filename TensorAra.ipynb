{
  "nbformat": 4,
  "nbformat_minor": 0,
  "metadata": {
    "colab": {
      "name": "TensorAra.ipynb",
      "version": "0.3.2",
      "provenance": [],
      "collapsed_sections": []
    },
    "kernelspec": {
      "name": "python3",
      "display_name": "Python 3"
    },
    "accelerator": "GPU"
  },
  "cells": [
    {
      "metadata": {
        "id": "fNwKlI-emoH1",
        "colab_type": "text"
      },
      "cell_type": "markdown",
      "source": [
        "# Link Untuk Belajar"
      ]
    },
    {
      "metadata": {
        "id": "NU4mHRqbmzAM",
        "colab_type": "text"
      },
      "cell_type": "markdown",
      "source": [
        "https://colab.research.google.com/github/margaretmz/deep-learning/blob/master/fashion_mnist_keras.ipynb"
      ]
    },
    {
      "metadata": {
        "id": "kGSY4tgFnTCi",
        "colab_type": "text"
      },
      "cell_type": "markdown",
      "source": [
        "CNN\n",
        "\n",
        "\n",
        "https://medium.freecodecamp.org/learn-to-build-a-convolutional-neural-network-on-the-web-with-this-easy-tutorial-2d617ffeaef3"
      ]
    },
    {
      "metadata": {
        "id": "Yuw8hryTnGoZ",
        "colab_type": "text"
      },
      "cell_type": "markdown",
      "source": [
        "load data from gdrive\n",
        "\n",
        "https://stackoverflow.com/questions/46986398/import-data-into-google-colaboratory"
      ]
    },
    {
      "metadata": {
        "id": "CuqJAD7A2CK_",
        "colab_type": "text"
      },
      "cell_type": "markdown",
      "source": [
        "# Mount Drive"
      ]
    },
    {
      "metadata": {
        "id": "ZDVvR3Itl_hm",
        "colab_type": "text"
      },
      "cell_type": "markdown",
      "source": [
        ""
      ]
    },
    {
      "metadata": {
        "id": "KMZjraD_kcmv",
        "colab_type": "code",
        "outputId": "8541ba52-efee-49aa-b170-882f33d93ed6",
        "colab": {
          "base_uri": "https://localhost:8080/",
          "height": 56
        }
      },
      "cell_type": "code",
      "source": [
        "# Load the Drive helper and mount\n",
        "from google.colab import drive\n",
        "\n",
        "# This will prompt for authorization.\n",
        "drive.mount('/content/drive/')"
      ],
      "execution_count": 24,
      "outputs": [
        {
          "output_type": "stream",
          "text": [
            "Drive already mounted at /content/drive/; to attempt to forcibly remount, call drive.mount(\"/content/drive/\", force_remount=True).\n"
          ],
          "name": "stdout"
        }
      ]
    },
    {
      "metadata": {
        "id": "_ETytJrMl4Ap",
        "colab_type": "code",
        "colab": {}
      },
      "cell_type": "code",
      "source": [
        "import os\n",
        "import glob\n",
        "import numpy \n",
        "from tensorflow.keras import layers\n",
        "from tensorflow import keras \n",
        "import tensorflow as tf\n",
        "import cv2                 \n",
        "from random import shuffle\n",
        "from tqdm import tqdm\n",
        "import skimage.data \n",
        "\n",
        "import sys\n",
        "import matplotlib\n",
        "import matplotlib.pyplot as plt\n",
        "import matplotlib.image as mpimg"
      ],
      "execution_count": 0,
      "outputs": []
    },
    {
      "metadata": {
        "id": "FDXAYKqIXCXJ",
        "colab_type": "text"
      },
      "cell_type": "markdown",
      "source": [
        "# Preparing Data Training"
      ]
    },
    {
      "metadata": {
        "id": "qiG408sVbidQ",
        "colab_type": "text"
      },
      "cell_type": "markdown",
      "source": [
        "**File Path**"
      ]
    },
    {
      "metadata": {
        "id": "isnLRzrkaop9",
        "colab_type": "code",
        "colab": {}
      },
      "cell_type": "code",
      "source": [
        "# dataset REDRAW\n",
        "train_path = \"drive/My Drive/SKRIPSI/dataset/training/\"\n",
        "test_path = \"drive/My Drive/SKRIPSI/dataset/test/\"\n",
        "class_path = \"drive/My Drive/SKRIPSI/class.txt\""
      ],
      "execution_count": 0,
      "outputs": []
    },
    {
      "metadata": {
        "id": "eFlRdwUkboO5",
        "colab_type": "text"
      },
      "cell_type": "markdown",
      "source": [
        "**Open Class**"
      ]
    },
    {
      "metadata": {
        "id": "DZScP6z1XPh8",
        "colab_type": "code",
        "colab": {}
      },
      "cell_type": "code",
      "source": [
        "f = open(class_path,\"r\")\n",
        "classes = f.readlines()\n",
        "f.close()"
      ],
      "execution_count": 0,
      "outputs": []
    },
    {
      "metadata": {
        "id": "En_Q8EBIZDL3",
        "colab_type": "code",
        "outputId": "ef365458-6d42-45ff-d672-35183b17b592",
        "colab": {
          "base_uri": "https://localhost:8080/",
          "height": 55
        }
      },
      "cell_type": "code",
      "source": [
        "classes = [c.replace('\\n','').replace(' ','_') for c in classes]\n",
        "print(classes)\n",
        "print (len(classes))\n",
        "# f = open(class_path,\"r\")\n",
        "# classes = f.readlines()\n",
        "# f.close()"
      ],
      "execution_count": 4,
      "outputs": [
        {
          "output_type": "stream",
          "text": [
            "['TextView', 'ImageView', 'ImageButton', 'EditText']\n",
            "4\n"
          ],
          "name": "stdout"
        }
      ]
    },
    {
      "metadata": {
        "id": "Y402yO-Xbwnt",
        "colab_type": "text"
      },
      "cell_type": "markdown",
      "source": [
        "**Create Train Data**"
      ]
    },
    {
      "metadata": {
        "id": "OCrcgYzjq8JX",
        "colab_type": "code",
        "colab": {}
      },
      "cell_type": "code",
      "source": [
        "# def label_img(cls):\n",
        "#     if cls == 'default': \n",
        "#       return [1,1,1,1,1,1,1,1,1,1,1,1,1,1,1,1,1]\n",
        "#     elif cls == 'Button': \n",
        "#       return [1,0,0,0,0,0,0,0,0,0,0,0,0,0,0,0,0]\n",
        "#     elif cls == 'TextView': \n",
        "#       return [0,1,0,0,0,0,0,0,0,0,0,0,0,0,0,0,0]\n",
        "#     elif cls == 'ImageView': \n",
        "#       return [0,0,1,0,0,0,0,0,0,0,0,0,0,0,0,0,0]\n",
        "#     elif cls == 'ImageButton': \n",
        "#       return [0,0,0,1,0,0,0,0,0,0,0,0,0,0,0,0,0]\n",
        "#     elif cls == 'EditText': \n",
        "#       return [0,0,0,0,1,0,0,0,0,0,0,0,0,0,0,0,0]\n",
        "#     elif cls == 'CheckBox': \n",
        "#       return [0,0,0,0,0,1,0,0,0,0,0,0,0,0,0,0,0]\n",
        "    \n",
        "#     elif cls == 'CheckedTextView': \n",
        "#       return [0,0,0,0,0,0,1,0,0,0,0,0,0,0,0,0,0]\n",
        "#     elif cls == 'RadioButton': \n",
        "#       return [0,0,0,0,0,0,0,1,0,0,0,0,0,0,0,0,0]\n",
        "#     elif cls == 'ProgressBar': \n",
        "#       return [0,0,0,0,0,0,0,0,1,0,0,0,0,0,0,0,0]\n",
        "#     elif cls == 'SeekBar': \n",
        "#       return [0,0,0,0,0,0,0,0,0,1,0,0,0,0,0,0,0]\n",
        "#     elif cls == 'NumberPicker': \n",
        "#       return [0,0,0,0,0,0,0,0,0,0,1,0,0,0,0,0,0]\n",
        "    \n",
        "#     elif cls == 'Switch': \n",
        "#       return [0,0,0,0,0,0,0,0,0,0,0,1,0,0,0,0,0]\n",
        "#     elif cls == 'ToggleButton': \n",
        "#       return [0,0,0,0,0,0,0,0,0,0,0,0,1,0,0,0,0]\n",
        "#     elif cls == 'RatingBar': \n",
        "#       return [0,0,0,0,0,0,0,0,0,0,0,0,0,1,0,0,0]\n",
        "#     elif cls == 'Spinner': \n",
        "#       return [0,0,0,0,0,0,0,0,0,0,0,0,0,0,1,0,0]\n",
        "    \n",
        "#     elif cls == 'None': \n",
        "#       return [0,0,0,0,0,0,0,0,0,0,0,0,0,0,0,0,0]\n",
        "    "
      ],
      "execution_count": 0,
      "outputs": []
    },
    {
      "metadata": {
        "id": "URYv8Ggo-NZp",
        "colab_type": "code",
        "colab": {}
      },
      "cell_type": "code",
      "source": [
        "def label_img(cls):\n",
        "\n",
        "    if cls == 'TextView': \n",
        "      return [1,0,0,0,0]\n",
        "    elif cls == 'ImageView': \n",
        "      return [0,1,0,0,0]\n",
        "    elif cls == 'ImageButton': \n",
        "      return [0,0,1,0,0]\n",
        "    elif cls == 'EditText': \n",
        "      return [0,0,0,1,0]    \n",
        "    elif cls == 'None': \n",
        "      return [0,0,0,0,1]"
      ],
      "execution_count": 0,
      "outputs": []
    },
    {
      "metadata": {
        "id": "WCnui8fSAKkq",
        "colab_type": "code",
        "outputId": "863987e5-7198-4dcf-d00e-05f821f36cbc",
        "colab": {
          "base_uri": "https://localhost:8080/",
          "height": 288
        }
      },
      "cell_type": "code",
      "source": [
        "\n",
        "# img = mpimg.imread(train_path)\n",
        "# new_array = cv2.resize(img,(size, size))\n",
        "# plt.imshow(new_array, cmap='gray')\n",
        "# plt.show()\n",
        "\n",
        "train_path = \"drive/My Drive/SKRIPSI/dataset/training/ImageButton/100.png\"\n",
        "#RESIZE FUNCTION\n",
        "img = mpimg.imread(train_path)\n",
        "\n",
        "img = skimage.color.rgb2gray(img)\n",
        "# new_array= cv2.resize(img, (size,size))\n",
        "plt.imshow(img)\n",
        "plt.show()\n",
        "\n",
        "arrayimg = numpy.asarray(img)\n",
        "print(arrayimg.shape)"
      ],
      "execution_count": 0,
      "outputs": [
        {
          "output_type": "display_data",
          "data": {
            "image/png": "[encoded data removed]",
            "text/plain": [
              "<Figure size 432x288 with 1 Axes>"
            ]
          },
          "metadata": {
            "tags": []
          }
        },
        {
          "output_type": "stream",
          "text": [
            "(100, 108)\n"
          ],
          "name": "stdout"
        }
      ]
    },
    {
      "metadata": {
        "id": "NBZoAvKl3En7",
        "colab_type": "code",
        "outputId": "94019ab9-c601-4b98-c28d-01bf7333e1ed",
        "colab": {
          "base_uri": "https://localhost:8080/",
          "height": 93
        }
      },
      "cell_type": "code",
      "source": [
        "p = 60\n",
        "l = 60\n",
        "\n",
        "def create_train_data_new():\n",
        "  training_data = []\n",
        "  label = []\n",
        "  \n",
        "  for cls in classes:\n",
        "    for img in tqdm(os.listdir(train_path+cls)):\n",
        "      label_temp = label_img(cls)\n",
        "      path = os.path.join(train_path+cls,img)\n",
        "#       img = skimage.color.rgb2gray(img)\n",
        "#       img = cv2.imread(path,cv2.IMREAD_GRAYSCALE)\n",
        "      img= cv2.imread(path)\n",
        "      img = cv2.resize(img, (p,l))\n",
        "      test = numpy.array(img)\n",
        "      training_data.append(test)\n",
        "      label.append(label_temp)  \n",
        "#       print (label_temp)\n",
        "  return training_data, label\n",
        "\n",
        "training_data, training_label = create_train_data_new()"
      ],
      "execution_count": 13,
      "outputs": [
        {
          "output_type": "stream",
          "text": [
            "100%|██████████| 1100/1100 [00:03<00:00, 310.40it/s]\n",
            "100%|██████████| 1100/1100 [00:05<00:00, 191.77it/s]\n",
            "100%|██████████| 1100/1100 [00:03<00:00, 334.83it/s]\n",
            "100%|██████████| 1100/1100 [00:04<00:00, 274.57it/s]\n"
          ],
          "name": "stderr"
        }
      ]
    },
    {
      "metadata": {
        "id": "7d6HV2sSuRvC",
        "colab_type": "code",
        "outputId": "53cbe313-658e-49a6-a37c-6d75d9b58c94",
        "colab": {
          "base_uri": "https://localhost:8080/",
          "height": 93
        }
      },
      "cell_type": "code",
      "source": [
        "# p = numpy.array(p)\n",
        "# l = numpy.array(l)\n",
        "# p = p.shape[0]\n",
        "# l = l.shape[1]\n",
        "\n",
        "p=60\n",
        "l=60\n",
        "def create_test_data_new():\n",
        "  testing_data = []\n",
        "  test_label = []\n",
        "  \n",
        "  for cls in classes:\n",
        "    for img in tqdm(os.listdir(test_path+cls)):\n",
        "      label_temp = numpy.array(label_img(cls))\n",
        "#       print(cls)\n",
        "      path = os.path.join(test_path+cls,img)\n",
        "#       img = cv2.imread(path,cv2.IMREAD_GRAYSCALE)\n",
        "      img= cv2.imread(path)\n",
        "      img = cv2.resize(img, (p,l))\n",
        "      test = numpy.array(img)\n",
        "      testing_data.append(test)\n",
        "      test_label.append(label_temp)  \n",
        "#       print (label_temp)\n",
        "  return testing_data, test_label\n",
        "testing_data, testing_label = create_test_data_new()\n",
        "\n",
        "\n"
      ],
      "execution_count": 14,
      "outputs": [
        {
          "output_type": "stream",
          "text": [
            "100%|██████████| 110/110 [00:00<00:00, 371.16it/s]\n",
            "100%|██████████| 110/110 [00:00<00:00, 184.19it/s]\n",
            "100%|██████████| 110/110 [00:00<00:00, 371.46it/s]\n",
            "100%|██████████| 110/110 [00:00<00:00, 301.08it/s]\n"
          ],
          "name": "stderr"
        }
      ]
    },
    {
      "metadata": {
        "id": "PLul1ej0HnRo",
        "colab_type": "code",
        "outputId": "d5de8b7f-01d3-498c-fc14-afc6dcb7f46e",
        "colab": {
          "base_uri": "https://localhost:8080/",
          "height": 93
        }
      },
      "cell_type": "code",
      "source": [
        "training_data = numpy.array(training_data)\n",
        "training_label = numpy.array(training_label)\n",
        "print (\"training_data\"+str(training_data.shape))\n",
        "print (\"training_label\"+str(training_label.shape))\n",
        "\n",
        "testing_data = numpy.array(testing_data)\n",
        "testing_label = numpy.array(testing_label)\n",
        "print (\"testing_data\"+str(testing_data.shape))\n",
        "print (\"testing_label\"+str(testing_label.shape))\n",
        "\n",
        "# test_label = []\n",
        "# label_temp = numpy.array(label_img('TextView'))\n",
        "# label_temp1 = numpy.array(label_img('ImageButton'))\n",
        "# (test_label.append(label_temp))\n",
        "# (test_label.append(label_temp1))\n",
        "# print(test_label)\n",
        "# print(numpy.array(test_label).shape)\n"
      ],
      "execution_count": 16,
      "outputs": [
        {
          "output_type": "stream",
          "text": [
            "training_data(4400, 60, 60, 3)\n",
            "training_label(4400, 5)\n",
            "testing_data(440, 60, 60, 3)\n",
            "testing_label(440, 5)\n"
          ],
          "name": "stdout"
        }
      ]
    },
    {
      "metadata": {
        "id": "XQ1iuXGFPKOe",
        "colab_type": "text"
      },
      "cell_type": "markdown",
      "source": [
        "## ara nyobak"
      ]
    },
    {
      "metadata": {
        "id": "RSABfxylCRkv",
        "colab_type": "code",
        "outputId": "96810676-9739-47a9-99a3-383902500fe0",
        "colab": {
          "base_uri": "https://localhost:8080/",
          "height": 112
        }
      },
      "cell_type": "code",
      "source": [
        "# import keras\n",
        "# from keras.callbacks import EarlySTopping\n",
        "# from keras.layers import Dense, Dropout\n",
        "# from keras \n",
        "# import regularizers\n",
        "\n",
        "print(\"x_train: {}\".format(training_data.shape))\n",
        "print(\"y_train: {}\".format(training_label.shape[0]))\n",
        "print()\n",
        "print(\"x_test: {}\".format(testing_data.shape))\n",
        "print(\"y_test: {}\".format(testing_label.shape[0]))"
      ],
      "execution_count": 0,
      "outputs": [
        {
          "output_type": "stream",
          "text": [
            "x_train: (4400, 227, 227)\n",
            "y_train: 4400\n",
            "\n",
            "x_test: (440, 227, 227)\n",
            "y_test: 440\n"
          ],
          "name": "stdout"
        }
      ]
    },
    {
      "metadata": {
        "id": "dHRShPiPMnP3",
        "colab_type": "code",
        "outputId": "3da876ee-e2e0-4ab4-b3eb-66e45088bb2c",
        "colab": {
          "base_uri": "https://localhost:8080/",
          "height": 288
        }
      },
      "cell_type": "code",
      "source": [
        "digit = 190\n",
        "a = testing_data[digit]\n",
        "plt.imshow(a, cmap='gray', interpolation='nearest')\n",
        "print (\"image (#{}): wich is digit '{}'\".format(digit,testing_label[digit]))"
      ],
      "execution_count": 0,
      "outputs": [
        {
          "output_type": "stream",
          "text": [
            "image (#190): wich is digit '[0 1 0 0 0]'\n"
          ],
          "name": "stdout"
        },
        {
          "output_type": "display_data",
          "data": {
            "image/png": "[encoded data removed]",
            "text/plain": [
              "<Figure size 432x288 with 1 Axes>"
            ]
          },
          "metadata": {
            "tags": []
          }
        }
      ]
    },
    {
      "metadata": {
        "id": "nIN5_C9tc5xJ",
        "colab_type": "text"
      },
      "cell_type": "markdown",
      "source": [
        "# Training Process\n"
      ]
    },
    {
      "metadata": {
        "id": "JQ2P8EHJdRj3",
        "colab_type": "code",
        "colab": {}
      },
      "cell_type": "code",
      "source": [
        "# !pip uninstall tflearn \n",
        "# !pip uninstall tensorflow -y\n",
        "# !pip uninstall protobuf\n",
        "\n",
        "\n",
        "# !pip install tensorflow-gpu==1.4.0\n",
        "# !pip show tensorflow\n",
        "\n",
        "# !pip install tensorflow-gpu==1.3\n",
        "# !pip install tflearn\n",
        "# !pip install keras\n",
        "# !pip install h5py numpy scikit-learn sklearn tensorflow-gpu # !pip install tflearn opencv-python pyttsx3"
      ],
      "execution_count": 0,
      "outputs": []
    },
    {
      "metadata": {
        "id": "E58amk8g6dZx",
        "colab_type": "code",
        "colab": {}
      },
      "cell_type": "code",
      "source": [
        "import numpy as np\n",
        "from tensorflow.keras import layers\n",
        "from tensorflow import keras \n",
        "import tensorflow as tf\n",
        "from sklearn.model_selection import train_test_split\n",
        "from keras.callbacks import EarlyStopping  \n",
        "import matplotlib.pyplot as plt\n",
        "from keras import backend as K\n",
        "from keras.models import Sequential\n",
        "from keras.layers import Dense, Dropout, Activation, Flatten\n",
        "from keras.layers import Conv2D, MaxPooling2D, AveragePooling2D\n",
        "from keras.layers.normalization import BatchNormalization\n",
        "%matplotlib inline"
      ],
      "execution_count": 0,
      "outputs": []
    },
    {
      "metadata": {
        "id": "oAdgsLYcr0o-",
        "colab_type": "code",
        "outputId": "ddbeb639-4f17-4858-a032-365b7c4272e4",
        "colab": {
          "base_uri": "https://localhost:8080/",
          "height": 644
        }
      },
      "cell_type": "code",
      "source": [
        "\n",
        "# x_train, x_test, y_train, y_test = train_test_split(training_data, label, test_size=0.3, random_state=42)\n",
        "# print (type(training_data))\n",
        "# print ((\"training_data= \"+str(training_data.shape)))\n",
        "# print('y_train ='+str(y_train.shape))\n",
        "\n",
        "# normalisasi inputs from 0-255 to 0-1\n",
        "x_train = training_data.astype(\"float32\")\n",
        "x_test = testing_data.astype(\"float32\")\n",
        "# x_train /= 225\n",
        "# x_test /= 225 \n",
        "x_train = x_train / 255\n",
        "x_test = x_test/ 255\n",
        "\n",
        "# reshape\n",
        "x_train = x_train.reshape(x_train.shape[0], l, p, 3)\n",
        "x_test = x_test.reshape(x_test.shape[0], l, p, 3)\n",
        "input_shape = (p, l, 3)\n",
        "\n",
        "print ((x_train.shape))\n",
        "\n",
        "# AlexNet==================================================\n",
        "# model = Sequential()\n",
        "# model.add(Conv2D(96, kernel_size=(11,11), padding='valid', strides=(4,4), activation=\"relu\", input_shape=(227,227,3)))\n",
        "# model.add(MaxPooling2D(pool_size=(3,3), strides=(2,2)))\n",
        "# # norm\n",
        "\n",
        "# model.add(Conv2D(256, kernel_size=(5,5), padding='SAME', activation=\"relu\"))\n",
        "# model.add(MaxPooling2D(pool_size=(3,3), strides=(2,2)))\n",
        "# # norm\n",
        "          \n",
        "# model.add(Conv2D(384, kernel_size=(3,3), padding='SAME', activation=\"relu\"))\n",
        "# model.add(Conv2D(384, kernel_size=(3,3), padding='SAME', activation=\"relu\"))\n",
        "# model.add(Conv2D(256, kernel_size=(3,3), padding='SAME', activation=\"relu\"))\n",
        "# model.add(MaxPooling2D(pool_size=(3,3), strides=(2,2)))\n",
        "\n",
        "\n",
        "# model.add(Flatten())\n",
        "\n",
        "# model.add(Dropout(0.5))\n",
        "# model.add(Dense(4096, activation=\"relu\"))\n",
        "# model.add(Dropout(0.5))\n",
        "# model.add(Dense(4096, activation=\"relu\"))\n",
        "\n",
        "# model.add(Dense(5, activation=\"softmax\"))\n",
        "# AlexNet done============================================\n",
        "\n",
        "\n",
        "# http://vision.stanford.edu/teaching/cs231b_spring1415/slides/alexnet_tugce_kyunghee.pdf\n",
        "# redraw===========================================================\n",
        "model = Sequential()\n",
        "model.add(Conv2D(64, kernel_size=(7,7), padding='SAME', strides=(2,2), activation=\"relu\", input_shape=(60,60,3)))\n",
        "\n",
        "model.add(Conv2D(64, kernel_size=(7,7), padding='SAME', strides=(2,2), activation=\"relu\"))\n",
        "\n",
        "model.add(MaxPooling2D(pool_size=(3,3), strides=(1,1)))\n",
        "model.add(BatchNormalization())\n",
        "model.add(Conv2D(96, kernel_size=(3,3), padding='valid', activation=\"relu\"))\n",
        "\n",
        "model.add(MaxPooling2D(pool_size=(2,2), strides=(1,1)))\n",
        "# model.add(BatchNormalization())\n",
        "\n",
        "model.add(Flatten())\n",
        "\n",
        "model.add(Dropout(0.25))\n",
        "model.add(Dense(1024, activation=\"relu\"))\n",
        "model.add(Dropout(0.25))\n",
        "model.add(Dense(1024, activation=\"relu\"))\n",
        "# model.add(BatchNormalization())\n",
        "\n",
        "model.add(Dense(5, activation=\"softmax\"))\n",
        "\n",
        "# redraw done===================================================\n",
        "\n",
        "# LeNET==========================================================\n",
        "# def createModel():\n",
        "# model = Sequential()\n",
        "# model.add(Conv2D(6, kernel_size=(3,3), padding='valid', strides=(1,1), activation=\"relu\", input_shape=(32,32,1)))\n",
        "# model.add(AveragePooling2D())\n",
        "# model.add(Conv2D(16, kernel_size=(3,3), padding='valid', strides=(1,1), activation=\"relu\"))\n",
        "# model.add(AveragePooling2D())\n",
        "\n",
        "# model.add(Flatten())\n",
        "\n",
        "# model.add(Dense(120, activation=\"relu\"))\n",
        "# model.add(Dense(84, activation=\"relu\"))\n",
        "\n",
        "# model.add(Dense(5, activation=\"softmax\"))\n",
        "# LeNET==========================================================\n",
        "\n",
        "\n",
        "# Train model\n",
        "adam = tf.train.AdamOptimizer()\n",
        "\n",
        "model.compile(loss=keras.losses.categorical_crossentropy, optimizer=adam, metrics=['accuracy'])\n",
        "print(model.summary())"
      ],
      "execution_count": 38,
      "outputs": [
        {
          "output_type": "stream",
          "text": [
            "(4400, 60, 60, 3)\n",
            "_________________________________________________________________\n",
            "Layer (type)                 Output Shape              Param #   \n",
            "=================================================================\n",
            "conv2d_25 (Conv2D)           (None, 30, 30, 64)        9472      \n",
            "_________________________________________________________________\n",
            "conv2d_26 (Conv2D)           (None, 15, 15, 64)        200768    \n",
            "_________________________________________________________________\n",
            "max_pooling2d_17 (MaxPooling (None, 13, 13, 64)        0         \n",
            "_________________________________________________________________\n",
            "batch_normalization_9 (Batch (None, 13, 13, 64)        256       \n",
            "_________________________________________________________________\n",
            "conv2d_27 (Conv2D)           (None, 11, 11, 96)        55392     \n",
            "_________________________________________________________________\n",
            "max_pooling2d_18 (MaxPooling (None, 10, 10, 96)        0         \n",
            "_________________________________________________________________\n",
            "flatten_9 (Flatten)          (None, 9600)              0         \n",
            "_________________________________________________________________\n",
            "dropout_17 (Dropout)         (None, 9600)              0         \n",
            "_________________________________________________________________\n",
            "dense_25 (Dense)             (None, 1024)              9831424   \n",
            "_________________________________________________________________\n",
            "dropout_18 (Dropout)         (None, 1024)              0         \n",
            "_________________________________________________________________\n",
            "dense_26 (Dense)             (None, 1024)              1049600   \n",
            "_________________________________________________________________\n",
            "dense_27 (Dense)             (None, 5)                 5125      \n",
            "=================================================================\n",
            "Total params: 11,152,037\n",
            "Trainable params: 11,151,909\n",
            "Non-trainable params: 128\n",
            "_________________________________________________________________\n",
            "None\n"
          ],
          "name": "stdout"
        }
      ]
    },
    {
      "metadata": {
        "id": "XqtP0GgOay-A",
        "colab_type": "code",
        "colab": {}
      },
      "cell_type": "code",
      "source": [
        "\n",
        "# x_train, x_test, y_train, y_test = train_test_split(training_data, label, test_size=0.3, random_state=42)\n",
        "# print (type(training_data))\n",
        "# print ((\"training_data= \"+str(training_data.shape)))\n",
        "# print('y_train ='+str(y_train.shape))\n",
        "\n",
        "# normalisasi\n",
        "x_train = training_data.astype(\"float32\")\n",
        "x_test = testing_data.astype(\"float32\")\n",
        "x_train /= 225\n",
        "x_test /= 225 \n",
        "\n",
        "# reshape\n",
        "x_train = x_train.reshape(x_train.shape[0], l, p, 1)\n",
        "x_test = x_test.reshape(x_test.shape[0], l, p, 1)\n",
        "input_shape = (p, l, 1)\n",
        "\n",
        "print ((x_train.shape))\n",
        "\n",
        "\n",
        "\n",
        "# http://vision.stanford.edu/teaching/cs231b_spring1415/slides/alexnet_tugce_kyunghee.pdf\n",
        "# redraw===========================================================\n",
        "# model = Sequential()\n",
        "# model.add(Conv2D(32, kernel_size=(3,3), padding='SAME', strides=(1,1), activation=\"relu\", input_shape=(227,227,3)))\n",
        "# model.add(MaxPooling2D(pool_size=(2,2), strides=(1,1)))\n",
        "\n",
        "# model.add(Conv2D(64, kernel_size=(3,3), padding='SAME', strides=(1,1), activation=\"relu\"))\n",
        "# model.add(MaxPooling2D(pool_size=(2,2)))\n",
        "\n",
        "# model.add(Conv2D(128, kernel_size=(3,3), padding='SAME', strides=(1,1), activation=\"relu\"))\n",
        "# model.add(MaxPooling2D(pool_size=(2,2)))\n",
        "\n",
        "# model.add(Flatten())\n",
        "\n",
        "# model.add(Dense(128, activation=\"relu\"))\n",
        "# model.add(Dropout(0.5))\n",
        "# model.add(Dense(5, activation=\"softmax\"))\n",
        "# redraw done===================================================\n",
        "\n",
        "\n",
        "#  new =====================================================\n",
        "model = Sequential()\n",
        "model.add(Conv2D(3, kernel_size=(11,11), padding='SAME', strides=(1,1), activation=\"relu\", input_shape=(227,227,1)))\n",
        "model.add(MaxPooling2D(pool_size=(3,3), strides=(1,1)))\n",
        "\n",
        "model.add(Conv2D(48, kernel_size=(5,5), padding='SAME', strides=(1,1), activation=\"relu\"))\n",
        "model.add(MaxPooling2D(pool_size=(3,3)))\n",
        "\n",
        "model.add(Conv2D(256, kernel_size=(3,3), padding='SAME', strides=(1,1), activation=\"relu\"))\n",
        "model.add(Conv2D(192, kernel_size=(3,3), padding='SAME', strides=(1,1), activation=\"relu\"))\n",
        "model.add(Conv2D(192, kernel_size=(3,3), padding='SAME', strides=(1,1), activation=\"relu\"))\n",
        "model.add(MaxPooling2D(pool_size=(3,3)))\n",
        "\n",
        "model.add(Flatten())\n",
        "\n",
        "# model.add(Dropout(0.5))\n",
        "model.add(Dense(2048, activation=\"relu\"))\n",
        "# model.add(Dropout(0.5))\n",
        "model.add(Dense(128, activation=\"relu\"))\n",
        "# model.add(Dropout(0.5))\n",
        "\n",
        "# model.add(Dense(5, activation=\"sigmoid\"))\n",
        "model.add(Dense(5, activation=\"softmax\"))\n",
        "# end ======================================================\n",
        "# Train model\n",
        "adam = tf.train.AdamOptimizer()\n",
        "\n",
        "model.compile(loss=keras.losses.categorical_crossentropy, optimizer=adam, metrics=['accuracy'])\n",
        "print(model.summary())"
      ],
      "execution_count": 0,
      "outputs": []
    },
    {
      "metadata": {
        "id": "J7fF1_8aZQfF",
        "colab_type": "code",
        "outputId": "117a1086-b0ba-4cf3-e86f-9fca5e9fe687",
        "colab": {
          "base_uri": "https://localhost:8080/",
          "height": 55
        }
      },
      "cell_type": "code",
      "source": [
        "testing_data = np.array(testing_data)\n",
        "testing_label = np.array(testing_label)\n",
        "print (\"testing_data\"+str(testing_data.shape))\n",
        "print (\"testing_label\"+str(testing_label.shape))"
      ],
      "execution_count": 19,
      "outputs": [
        {
          "output_type": "stream",
          "text": [
            "testing_data(440, 60, 60, 3)\n",
            "testing_label(440, 5)\n"
          ],
          "name": "stdout"
        }
      ]
    },
    {
      "metadata": {
        "id": "_E5B4LxUlDe4",
        "colab_type": "text"
      },
      "cell_type": "markdown",
      "source": [
        ""
      ]
    },
    {
      "metadata": {
        "id": "2HFYhDxrLRhp",
        "colab_type": "code",
        "outputId": "478656e5-b613-402e-d1c1-8466e4b187eb",
        "colab": {
          "base_uri": "https://localhost:8080/",
          "height": 2393
        }
      },
      "cell_type": "code",
      "source": [
        "my_callbacks = [EarlyStopping(monitor=\"acc\", patience=5, mode=max)]\n",
        "\n",
        "\n",
        "hist = model.fit(x_train, training_label, batch_size=120, epochs=100, verbose=1, validation_split=0.3, callbacks=my_callbacks)\n",
        "score = model.evaluate(x_test, testing_label)\n",
        "print(\"Testing Loss:\", score[0])\n",
        "print(\"Testing Accuracy:\", score[1])\n",
        "\n",
        "\n",
        "\n"
      ],
      "execution_count": 41,
      "outputs": [
        {
          "output_type": "stream",
          "text": [
            "/usr/local/lib/python3.6/dist-packages/keras/callbacks.py:511: RuntimeWarning: EarlyStopping mode <built-in function max> is unknown, fallback to auto mode.\n",
            "  RuntimeWarning)\n"
          ],
          "name": "stderr"
        },
        {
          "output_type": "stream",
          "text": [
            "Train on 3080 samples, validate on 1320 samples\n",
            "Epoch 1/100\n",
            "3080/3080 [==============================] - 2s 745us/step - loss: 4.3973 - acc: 0.3269 - val_loss: 8.0234 - val_acc: 0.1636\n",
            "Epoch 2/100\n",
            "3080/3080 [==============================] - 1s 236us/step - loss: 1.3553 - acc: 0.3711 - val_loss: 12.2561 - val_acc: 0.0530\n",
            "Epoch 3/100\n",
            "3080/3080 [==============================] - 1s 236us/step - loss: 1.0334 - acc: 0.4987 - val_loss: 12.3324 - val_acc: 0.0485\n",
            "Epoch 4/100\n",
            "3080/3080 [==============================] - 1s 234us/step - loss: 0.9084 - acc: 0.5812 - val_loss: 12.1384 - val_acc: 0.0477\n",
            "Epoch 5/100\n",
            "3080/3080 [==============================] - 1s 234us/step - loss: 0.8362 - acc: 0.6286 - val_loss: 12.2069 - val_acc: 0.0758\n",
            "Epoch 6/100\n",
            "3080/3080 [==============================] - 1s 234us/step - loss: 0.7795 - acc: 0.6442 - val_loss: 12.0278 - val_acc: 0.0530\n",
            "Epoch 7/100\n",
            "3080/3080 [==============================] - 1s 241us/step - loss: 0.7314 - acc: 0.6779 - val_loss: 12.0919 - val_acc: 0.0644\n",
            "Epoch 8/100\n",
            "3080/3080 [==============================] - 1s 238us/step - loss: 0.6926 - acc: 0.6958 - val_loss: 12.2976 - val_acc: 0.0576\n",
            "Epoch 9/100\n",
            "3080/3080 [==============================] - 1s 236us/step - loss: 0.6506 - acc: 0.7224 - val_loss: 8.3841 - val_acc: 0.1038\n",
            "Epoch 10/100\n",
            "3080/3080 [==============================] - 1s 230us/step - loss: 0.6288 - acc: 0.7266 - val_loss: 8.1555 - val_acc: 0.1000\n",
            "Epoch 11/100\n",
            "3080/3080 [==============================] - 1s 232us/step - loss: 0.5834 - acc: 0.7409 - val_loss: 4.8158 - val_acc: 0.1061\n",
            "Epoch 12/100\n",
            "3080/3080 [==============================] - 1s 231us/step - loss: 0.5804 - acc: 0.7500 - val_loss: 7.0983 - val_acc: 0.0462\n",
            "Epoch 13/100\n",
            "3080/3080 [==============================] - 1s 232us/step - loss: 0.5364 - acc: 0.7617 - val_loss: 4.6562 - val_acc: 0.1159\n",
            "Epoch 14/100\n",
            "3080/3080 [==============================] - 1s 231us/step - loss: 0.4868 - acc: 0.7870 - val_loss: 6.3725 - val_acc: 0.0705\n",
            "Epoch 15/100\n",
            "3080/3080 [==============================] - 1s 231us/step - loss: 0.4555 - acc: 0.8049 - val_loss: 8.4235 - val_acc: 0.0924\n",
            "Epoch 16/100\n",
            "3080/3080 [==============================] - 1s 230us/step - loss: 0.4238 - acc: 0.8198 - val_loss: 5.9039 - val_acc: 0.0970\n",
            "Epoch 17/100\n",
            "3080/3080 [==============================] - 1s 231us/step - loss: 0.4113 - acc: 0.8364 - val_loss: 9.0043 - val_acc: 0.0811\n",
            "Epoch 18/100\n",
            "3080/3080 [==============================] - 1s 231us/step - loss: 0.3822 - acc: 0.8412 - val_loss: 7.8783 - val_acc: 0.1098\n",
            "Epoch 19/100\n",
            "3080/3080 [==============================] - 1s 230us/step - loss: 0.3636 - acc: 0.8432 - val_loss: 8.1157 - val_acc: 0.0932\n",
            "Epoch 20/100\n",
            "3080/3080 [==============================] - 1s 236us/step - loss: 0.3627 - acc: 0.8510 - val_loss: 13.1382 - val_acc: 0.0864\n",
            "Epoch 21/100\n",
            "3080/3080 [==============================] - 1s 234us/step - loss: 0.3491 - acc: 0.8536 - val_loss: 7.8362 - val_acc: 0.0977\n",
            "Epoch 22/100\n",
            "3080/3080 [==============================] - 1s 233us/step - loss: 0.3169 - acc: 0.8727 - val_loss: 11.0506 - val_acc: 0.1197\n",
            "Epoch 23/100\n",
            "3080/3080 [==============================] - 1s 233us/step - loss: 0.2927 - acc: 0.8864 - val_loss: 12.4693 - val_acc: 0.0864\n",
            "Epoch 24/100\n",
            "3080/3080 [==============================] - 1s 233us/step - loss: 0.2693 - acc: 0.8922 - val_loss: 7.6713 - val_acc: 0.1114\n",
            "Epoch 25/100\n",
            "3080/3080 [==============================] - 1s 235us/step - loss: 0.2486 - acc: 0.8951 - val_loss: 12.2758 - val_acc: 0.1083\n",
            "Epoch 26/100\n",
            "3080/3080 [==============================] - 1s 229us/step - loss: 0.2321 - acc: 0.9010 - val_loss: 11.5088 - val_acc: 0.1250\n",
            "Epoch 27/100\n",
            "3080/3080 [==============================] - 1s 231us/step - loss: 0.2072 - acc: 0.9114 - val_loss: 10.3096 - val_acc: 0.1258\n",
            "Epoch 28/100\n",
            "3080/3080 [==============================] - 1s 230us/step - loss: 0.2084 - acc: 0.9153 - val_loss: 9.1122 - val_acc: 0.1235\n",
            "Epoch 29/100\n",
            "3080/3080 [==============================] - 1s 233us/step - loss: 0.1861 - acc: 0.9292 - val_loss: 9.5002 - val_acc: 0.1318\n",
            "Epoch 30/100\n",
            "3080/3080 [==============================] - 1s 236us/step - loss: 0.1720 - acc: 0.9328 - val_loss: 9.1864 - val_acc: 0.1220\n",
            "Epoch 31/100\n",
            "3080/3080 [==============================] - 1s 231us/step - loss: 0.1940 - acc: 0.9247 - val_loss: 10.5517 - val_acc: 0.1061\n",
            "Epoch 32/100\n",
            "3080/3080 [==============================] - 1s 235us/step - loss: 0.1738 - acc: 0.9331 - val_loss: 9.9665 - val_acc: 0.1061\n",
            "Epoch 33/100\n",
            "3080/3080 [==============================] - 1s 230us/step - loss: 0.1380 - acc: 0.9451 - val_loss: 12.6495 - val_acc: 0.1144\n",
            "Epoch 34/100\n",
            "3080/3080 [==============================] - 1s 231us/step - loss: 0.1543 - acc: 0.9386 - val_loss: 10.7963 - val_acc: 0.1242\n",
            "Epoch 35/100\n",
            "3080/3080 [==============================] - 1s 234us/step - loss: 0.1653 - acc: 0.9360 - val_loss: 12.1866 - val_acc: 0.1030\n",
            "Epoch 36/100\n",
            "3080/3080 [==============================] - 1s 236us/step - loss: 0.1259 - acc: 0.9506 - val_loss: 12.6665 - val_acc: 0.1265\n",
            "Epoch 37/100\n",
            "3080/3080 [==============================] - 1s 237us/step - loss: 0.1239 - acc: 0.9490 - val_loss: 11.2673 - val_acc: 0.1023\n",
            "Epoch 38/100\n",
            "3080/3080 [==============================] - 1s 237us/step - loss: 0.1163 - acc: 0.9532 - val_loss: 12.5654 - val_acc: 0.1144\n",
            "Epoch 39/100\n",
            "3080/3080 [==============================] - 1s 231us/step - loss: 0.1194 - acc: 0.9506 - val_loss: 13.4758 - val_acc: 0.0848\n",
            "Epoch 40/100\n",
            "3080/3080 [==============================] - 1s 235us/step - loss: 0.1415 - acc: 0.9474 - val_loss: 13.0129 - val_acc: 0.1174\n",
            "Epoch 41/100\n",
            "3080/3080 [==============================] - 1s 230us/step - loss: 0.1125 - acc: 0.9584 - val_loss: 12.3502 - val_acc: 0.1091\n",
            "Epoch 42/100\n",
            "3080/3080 [==============================] - 1s 230us/step - loss: 0.1226 - acc: 0.9529 - val_loss: 13.2670 - val_acc: 0.0894\n",
            "Epoch 43/100\n",
            "3080/3080 [==============================] - 1s 230us/step - loss: 0.1155 - acc: 0.9588 - val_loss: 10.3572 - val_acc: 0.1076\n",
            "Epoch 44/100\n",
            "3080/3080 [==============================] - 1s 231us/step - loss: 0.1007 - acc: 0.9591 - val_loss: 12.1526 - val_acc: 0.1295\n",
            "Epoch 45/100\n",
            "3080/3080 [==============================] - 1s 236us/step - loss: 0.0937 - acc: 0.9659 - val_loss: 12.3009 - val_acc: 0.0970\n",
            "Epoch 46/100\n",
            "3080/3080 [==============================] - 1s 233us/step - loss: 0.1096 - acc: 0.9575 - val_loss: 12.7631 - val_acc: 0.1129\n",
            "Epoch 47/100\n",
            "3080/3080 [==============================] - 1s 236us/step - loss: 0.1199 - acc: 0.9519 - val_loss: 13.1238 - val_acc: 0.1106\n",
            "Epoch 48/100\n",
            "3080/3080 [==============================] - 1s 234us/step - loss: 0.1031 - acc: 0.9617 - val_loss: 11.4726 - val_acc: 0.1159\n",
            "Epoch 49/100\n",
            "3080/3080 [==============================] - 1s 231us/step - loss: 0.0741 - acc: 0.9708 - val_loss: 13.2251 - val_acc: 0.1061\n",
            "Epoch 50/100\n",
            "3080/3080 [==============================] - 1s 234us/step - loss: 0.0788 - acc: 0.9701 - val_loss: 12.0638 - val_acc: 0.1167\n",
            "Epoch 51/100\n",
            "3080/3080 [==============================] - 1s 234us/step - loss: 0.0942 - acc: 0.9666 - val_loss: 12.7862 - val_acc: 0.1038\n",
            "Epoch 52/100\n",
            "3080/3080 [==============================] - 1s 231us/step - loss: 0.0961 - acc: 0.9653 - val_loss: 13.0316 - val_acc: 0.1212\n",
            "Epoch 53/100\n",
            "3080/3080 [==============================] - 1s 238us/step - loss: 0.0842 - acc: 0.9646 - val_loss: 12.7044 - val_acc: 0.1159\n",
            "Epoch 54/100\n",
            "3080/3080 [==============================] - 1s 233us/step - loss: 0.0635 - acc: 0.9769 - val_loss: 12.5705 - val_acc: 0.1212\n",
            "Epoch 55/100\n",
            "3080/3080 [==============================] - 1s 232us/step - loss: 0.0716 - acc: 0.9731 - val_loss: 10.8576 - val_acc: 0.1061\n",
            "Epoch 56/100\n",
            "3080/3080 [==============================] - 1s 231us/step - loss: 0.0742 - acc: 0.9698 - val_loss: 11.9901 - val_acc: 0.1182\n",
            "Epoch 57/100\n",
            "3080/3080 [==============================] - 1s 236us/step - loss: 0.0908 - acc: 0.9653 - val_loss: 13.2415 - val_acc: 0.1030\n",
            "Epoch 58/100\n",
            "3080/3080 [==============================] - 1s 236us/step - loss: 0.0922 - acc: 0.9653 - val_loss: 12.9923 - val_acc: 0.1265\n",
            "Epoch 59/100\n",
            "3080/3080 [==============================] - 1s 233us/step - loss: 0.0906 - acc: 0.9627 - val_loss: 10.8152 - val_acc: 0.1000\n",
            "440/440 [==============================] - 0s 116us/step\n",
            "Testing Loss: 3.5482617615976118\n",
            "Testing Accuracy: 0.6590909090909091\n"
          ],
          "name": "stdout"
        }
      ]
    },
    {
      "metadata": {
        "id": "nelnJAYpVEW6",
        "colab_type": "code",
        "outputId": "20f3d3a4-5376-4dc2-b225-4123cb0e8490",
        "colab": {
          "base_uri": "https://localhost:8080/",
          "height": 269
        }
      },
      "cell_type": "code",
      "source": [
        "# print((hist.history[\"acc\"]))\n",
        "epoch_list = list(range(1, len(hist.history[\"acc\"]) + 1))\n",
        "plt.plot(epoch_list, hist.history['acc'], epoch_list, hist.history['val_acc'])\n",
        "plt.legend((\"Training Accuracy\", \"Validation Accuracy\"))\n",
        "plt.show()"
      ],
      "execution_count": 42,
      "outputs": [
        {
          "output_type": "display_data",
          "data": {
            "image/png": "[encoded data removed]",
            "text/plain": [
              "<Figure size 432x288 with 1 Axes>"
            ]
          },
          "metadata": {
            "tags": []
          }
        }
      ]
    },
    {
      "metadata": {
        "id": "203ny5Y-C3nQ",
        "colab_type": "code",
        "outputId": "57d08925-4947-4b84-fa91-0c320e0da5c7",
        "colab": {
          "base_uri": "https://localhost:8080/",
          "height": 55
        }
      },
      "cell_type": "code",
      "source": [
        "score = model.evaluate(x_train, training_label, verbose=0)\n",
        "print('Test loss:', score[0])\n",
        "print('Test accuracy:', score[1])"
      ],
      "execution_count": 39,
      "outputs": [
        {
          "output_type": "stream",
          "text": [
            "Test loss: 1.6521728173169223\n",
            "Test accuracy: 0.0009090909090909091\n"
          ],
          "name": "stdout"
        }
      ]
    },
    {
      "metadata": {
        "id": "uUFNg88XE45h",
        "colab_type": "text"
      },
      "cell_type": "markdown",
      "source": [
        "# Training with data augmentation"
      ]
    },
    {
      "metadata": {
        "id": "H9stjcRnX5ff",
        "colab_type": "text"
      },
      "cell_type": "markdown",
      "source": [
        "# Inference"
      ]
    },
    {
      "metadata": {
        "id": "1wP2KZIuX7kr",
        "colab_type": "code",
        "outputId": "25dfe1b8-c7b0-4ec4-e4b6-540a347a352b",
        "colab": {
          "base_uri": "https://localhost:8080/",
          "height": 327
        }
      },
      "cell_type": "code",
      "source": [
        "# import matplotlib.pyplot as plt\n",
        "from random import randint\n",
        "%matplotlib inline  \n",
        "idx = randint(0, len(x_test))\n",
        "img = x_test[idx]\n",
        "plt.imshow(img.squeeze()) \n",
        "pred = model.predict(np.expand_dims(img, axis=0))[0]\n",
        "ind = (-pred).argsort()[:5]\n",
        "latex = [testing_label[x] for x in ind]\n",
        "print((latex))\n",
        "print(img.shape)"
      ],
      "execution_count": 53,
      "outputs": [
        {
          "output_type": "stream",
          "text": [
            "[array([1, 0, 0, 0, 0]), array([1, 0, 0, 0, 0]), array([1, 0, 0, 0, 0]), array([1, 0, 0, 0, 0]), array([1, 0, 0, 0, 0])]\n",
            "(60, 60, 3)\n"
          ],
          "name": "stdout"
        },
        {
          "output_type": "display_data",
          "data": {
            "image/png": "[encoded data removed]",
            "text/plain": [
              "<Figure size 432x288 with 1 Axes>"
            ]
          },
          "metadata": {
            "tags": []
          }
        }
      ]
    },
    {
      "metadata": {
        "id": "GPVDNVpsujWl",
        "colab_type": "text"
      },
      "cell_type": "markdown",
      "source": [
        "# coba"
      ]
    },
    {
      "metadata": {
        "id": "vVn_zjW9uo98",
        "colab_type": "code",
        "colab": {}
      },
      "cell_type": "code",
      "source": [
        "EPOCHS = 10\n",
        "BATCH_SIZE = 128"
      ],
      "execution_count": 0,
      "outputs": []
    },
    {
      "metadata": {
        "id": "MRfb3jKIy9Pe",
        "colab_type": "code",
        "outputId": "0320f6ac-b621-45cc-8a86-1a1ec4636a31",
        "colab": {
          "base_uri": "https://localhost:8080/",
          "height": 274
        }
      },
      "cell_type": "code",
      "source": [
        "X_train, y_train = train['features'], to_categorical(train['labels'])\n",
        "X_validation, y_validation = validation['features'], to_categorical(validation['labels'])\n",
        "\n",
        "train_generator = ImageDataGenerator().flow(X_train, y_train, batch_size=BATCH_SIZE)\n",
        "validation_generator = ImageDataGenerator().flow(X_validation, y_validation, batch_size=BATCH_SIZE)"
      ],
      "execution_count": 0,
      "outputs": [
        {
          "output_type": "error",
          "ename": "NameError",
          "evalue": "ignored",
          "traceback": [
            "\u001b[0;31m---------------------------------------------------------------------------\u001b[0m",
            "\u001b[0;31mNameError\u001b[0m                                 Traceback (most recent call last)",
            "\u001b[0;32m<ipython-input-270-e8a66eb6445f>\u001b[0m in \u001b[0;36m<module>\u001b[0;34m()\u001b[0m\n\u001b[0;32m----> 1\u001b[0;31m \u001b[0mX_train\u001b[0m\u001b[0;34m,\u001b[0m \u001b[0my_train\u001b[0m \u001b[0;34m=\u001b[0m \u001b[0mtrain\u001b[0m\u001b[0;34m[\u001b[0m\u001b[0;34m'features'\u001b[0m\u001b[0;34m]\u001b[0m\u001b[0;34m,\u001b[0m \u001b[0mto_categorical\u001b[0m\u001b[0;34m(\u001b[0m\u001b[0mtrain\u001b[0m\u001b[0;34m[\u001b[0m\u001b[0;34m'labels'\u001b[0m\u001b[0;34m]\u001b[0m\u001b[0;34m)\u001b[0m\u001b[0;34m\u001b[0m\u001b[0;34m\u001b[0m\u001b[0m\n\u001b[0m\u001b[1;32m      2\u001b[0m \u001b[0mX_validation\u001b[0m\u001b[0;34m,\u001b[0m \u001b[0my_validation\u001b[0m \u001b[0;34m=\u001b[0m \u001b[0mvalidation\u001b[0m\u001b[0;34m[\u001b[0m\u001b[0;34m'features'\u001b[0m\u001b[0;34m]\u001b[0m\u001b[0;34m,\u001b[0m \u001b[0mto_categorical\u001b[0m\u001b[0;34m(\u001b[0m\u001b[0mvalidation\u001b[0m\u001b[0;34m[\u001b[0m\u001b[0;34m'labels'\u001b[0m\u001b[0;34m]\u001b[0m\u001b[0;34m)\u001b[0m\u001b[0;34m\u001b[0m\u001b[0;34m\u001b[0m\u001b[0m\n\u001b[1;32m      3\u001b[0m \u001b[0;34m\u001b[0m\u001b[0m\n\u001b[1;32m      4\u001b[0m \u001b[0mtrain_generator\u001b[0m \u001b[0;34m=\u001b[0m \u001b[0mImageDataGenerator\u001b[0m\u001b[0;34m(\u001b[0m\u001b[0;34m)\u001b[0m\u001b[0;34m.\u001b[0m\u001b[0mflow\u001b[0m\u001b[0;34m(\u001b[0m\u001b[0mX_train\u001b[0m\u001b[0;34m,\u001b[0m \u001b[0my_train\u001b[0m\u001b[0;34m,\u001b[0m \u001b[0mbatch_size\u001b[0m\u001b[0;34m=\u001b[0m\u001b[0mBATCH_SIZE\u001b[0m\u001b[0;34m)\u001b[0m\u001b[0;34m\u001b[0m\u001b[0;34m\u001b[0m\u001b[0m\n\u001b[1;32m      5\u001b[0m \u001b[0mvalidation_generator\u001b[0m \u001b[0;34m=\u001b[0m \u001b[0mImageDataGenerator\u001b[0m\u001b[0;34m(\u001b[0m\u001b[0;34m)\u001b[0m\u001b[0;34m.\u001b[0m\u001b[0mflow\u001b[0m\u001b[0;34m(\u001b[0m\u001b[0mX_validation\u001b[0m\u001b[0;34m,\u001b[0m \u001b[0my_validation\u001b[0m\u001b[0;34m,\u001b[0m \u001b[0mbatch_size\u001b[0m\u001b[0;34m=\u001b[0m\u001b[0mBATCH_SIZE\u001b[0m\u001b[0;34m)\u001b[0m\u001b[0;34m\u001b[0m\u001b[0;34m\u001b[0m\u001b[0m\n",
            "\u001b[0;31mNameError\u001b[0m: name 'train' is not defined"
          ]
        }
      ]
    },
    {
      "metadata": {
        "id": "VKL01xJ2vTBE",
        "colab_type": "code",
        "outputId": "9b0ecfff-d947-45ff-aa38-d37616e7e093",
        "colab": {
          "base_uri": "https://localhost:8080/",
          "height": 274
        }
      },
      "cell_type": "code",
      "source": [
        "print('# of training images:', x_train['features'].shape[0])\n",
        "# print('# of validation images:', testing['features'].shape[0])\n",
        "\n",
        "steps_per_epoch = X_train.shape[0]//BATCH_SIZE\n",
        "validation_steps = X_validation.shape[0]//BATCH_SIZE\n",
        "\n",
        "tensorboard = TensorBoard(log_dir=\"logs/{}\".format(time()))\n",
        "model.fit_generator(train_generator, steps_per_epoch=steps_per_epoch, epochs=EPOCHS, \n",
        "                    validation_data=validation_generator, validation_steps=validation_steps, \n",
        "                    shuffle=True, callbacks=[tensorboard])"
      ],
      "execution_count": 0,
      "outputs": [
        {
          "output_type": "error",
          "ename": "IndexError",
          "evalue": "ignored",
          "traceback": [
            "\u001b[0;31m---------------------------------------------------------------------------\u001b[0m",
            "\u001b[0;31mIndexError\u001b[0m                                Traceback (most recent call last)",
            "\u001b[0;32m<ipython-input-269-841683954be1>\u001b[0m in \u001b[0;36m<module>\u001b[0;34m()\u001b[0m\n\u001b[0;32m----> 1\u001b[0;31m \u001b[0mprint\u001b[0m\u001b[0;34m(\u001b[0m\u001b[0;34m'# of training images:'\u001b[0m\u001b[0;34m,\u001b[0m \u001b[0mx_train\u001b[0m\u001b[0;34m[\u001b[0m\u001b[0;34m'features'\u001b[0m\u001b[0;34m]\u001b[0m\u001b[0;34m.\u001b[0m\u001b[0mshape\u001b[0m\u001b[0;34m[\u001b[0m\u001b[0;36m0\u001b[0m\u001b[0;34m]\u001b[0m\u001b[0;34m)\u001b[0m\u001b[0;34m\u001b[0m\u001b[0;34m\u001b[0m\u001b[0m\n\u001b[0m\u001b[1;32m      2\u001b[0m \u001b[0;31m# print('# of validation images:', testing['features'].shape[0])\u001b[0m\u001b[0;34m\u001b[0m\u001b[0;34m\u001b[0m\u001b[0;34m\u001b[0m\u001b[0m\n\u001b[1;32m      3\u001b[0m \u001b[0;34m\u001b[0m\u001b[0m\n\u001b[1;32m      4\u001b[0m \u001b[0msteps_per_epoch\u001b[0m \u001b[0;34m=\u001b[0m \u001b[0mX_train\u001b[0m\u001b[0;34m.\u001b[0m\u001b[0mshape\u001b[0m\u001b[0;34m[\u001b[0m\u001b[0;36m0\u001b[0m\u001b[0;34m]\u001b[0m\u001b[0;34m//\u001b[0m\u001b[0mBATCH_SIZE\u001b[0m\u001b[0;34m\u001b[0m\u001b[0;34m\u001b[0m\u001b[0m\n\u001b[1;32m      5\u001b[0m \u001b[0mvalidation_steps\u001b[0m \u001b[0;34m=\u001b[0m \u001b[0mX_validation\u001b[0m\u001b[0;34m.\u001b[0m\u001b[0mshape\u001b[0m\u001b[0;34m[\u001b[0m\u001b[0;36m0\u001b[0m\u001b[0;34m]\u001b[0m\u001b[0;34m//\u001b[0m\u001b[0mBATCH_SIZE\u001b[0m\u001b[0;34m\u001b[0m\u001b[0;34m\u001b[0m\u001b[0m\n",
            "\u001b[0;31mIndexError\u001b[0m: only integers, slices (`:`), ellipsis (`...`), numpy.newaxis (`None`) and integer or boolean arrays are valid indices"
          ]
        }
      ]
    },
    {
      "metadata": {
        "id": "gdNcog5BV0kl",
        "colab_type": "code",
        "colab": {
          "base_uri": "https://localhost:8080/",
          "height": 673
        },
        "outputId": "71ff0beb-b63b-48ec-c3ae-40a0b26465e0"
      },
      "cell_type": "code",
      "source": [
        "from scipy import stats\n",
        "train_path = \"drive/My Drive/SKRIPSI/dataset/training/ImageButton/\"\n",
        "dataset=stats.zscore(train_path)\n",
        "scaler = MinMaxScaler(feature_range=(-1,1))\n",
        "dataset = scaler.fit_transform(dataset)\n",
        "print(dataset)"
      ],
      "execution_count": 59,
      "outputs": [
        {
          "output_type": "error",
          "ename": "IndexError",
          "evalue": "ignored",
          "traceback": [
            "\u001b[0;31m---------------------------------------------------------------------------\u001b[0m",
            "\u001b[0;31mIndexError\u001b[0m                                Traceback (most recent call last)",
            "\u001b[0;32m<ipython-input-59-1a99f6d1f90c>\u001b[0m in \u001b[0;36m<module>\u001b[0;34m()\u001b[0m\n\u001b[1;32m      1\u001b[0m \u001b[0;32mfrom\u001b[0m \u001b[0mscipy\u001b[0m \u001b[0;32mimport\u001b[0m \u001b[0mstats\u001b[0m\u001b[0;34m\u001b[0m\u001b[0;34m\u001b[0m\u001b[0m\n\u001b[1;32m      2\u001b[0m \u001b[0mtrain_path\u001b[0m \u001b[0;34m=\u001b[0m \u001b[0;34m\"drive/My Drive/SKRIPSI/dataset/training/ImageButton/\"\u001b[0m\u001b[0;34m\u001b[0m\u001b[0;34m\u001b[0m\u001b[0m\n\u001b[0;32m----> 3\u001b[0;31m \u001b[0mdataset\u001b[0m\u001b[0;34m=\u001b[0m\u001b[0mstats\u001b[0m\u001b[0;34m.\u001b[0m\u001b[0mzscore\u001b[0m\u001b[0;34m(\u001b[0m\u001b[0mtrain_path\u001b[0m\u001b[0;34m)\u001b[0m\u001b[0;34m\u001b[0m\u001b[0;34m\u001b[0m\u001b[0m\n\u001b[0m\u001b[1;32m      4\u001b[0m \u001b[0mscaler\u001b[0m \u001b[0;34m=\u001b[0m \u001b[0mMinMaxScaler\u001b[0m\u001b[0;34m(\u001b[0m\u001b[0mfeature_range\u001b[0m\u001b[0;34m=\u001b[0m\u001b[0;34m(\u001b[0m\u001b[0;34m-\u001b[0m\u001b[0;36m1\u001b[0m\u001b[0;34m,\u001b[0m\u001b[0;36m1\u001b[0m\u001b[0;34m)\u001b[0m\u001b[0;34m)\u001b[0m\u001b[0;34m\u001b[0m\u001b[0;34m\u001b[0m\u001b[0m\n\u001b[1;32m      5\u001b[0m \u001b[0mdataset\u001b[0m \u001b[0;34m=\u001b[0m \u001b[0mscaler\u001b[0m\u001b[0;34m.\u001b[0m\u001b[0mfit_transform\u001b[0m\u001b[0;34m(\u001b[0m\u001b[0mdataset\u001b[0m\u001b[0;34m)\u001b[0m\u001b[0;34m\u001b[0m\u001b[0;34m\u001b[0m\u001b[0m\n",
            "\u001b[0;32m/usr/local/lib/python3.6/dist-packages/scipy/stats/stats.py\u001b[0m in \u001b[0;36mzscore\u001b[0;34m(a, axis, ddof)\u001b[0m\n\u001b[1;32m   2273\u001b[0m     \"\"\"\n\u001b[1;32m   2274\u001b[0m     \u001b[0ma\u001b[0m \u001b[0;34m=\u001b[0m \u001b[0mnp\u001b[0m\u001b[0;34m.\u001b[0m\u001b[0masanyarray\u001b[0m\u001b[0;34m(\u001b[0m\u001b[0ma\u001b[0m\u001b[0;34m)\u001b[0m\u001b[0;34m\u001b[0m\u001b[0;34m\u001b[0m\u001b[0m\n\u001b[0;32m-> 2275\u001b[0;31m     \u001b[0mmns\u001b[0m \u001b[0;34m=\u001b[0m \u001b[0ma\u001b[0m\u001b[0;34m.\u001b[0m\u001b[0mmean\u001b[0m\u001b[0;34m(\u001b[0m\u001b[0maxis\u001b[0m\u001b[0;34m=\u001b[0m\u001b[0maxis\u001b[0m\u001b[0;34m)\u001b[0m\u001b[0;34m\u001b[0m\u001b[0;34m\u001b[0m\u001b[0m\n\u001b[0m\u001b[1;32m   2276\u001b[0m     \u001b[0msstd\u001b[0m \u001b[0;34m=\u001b[0m \u001b[0ma\u001b[0m\u001b[0;34m.\u001b[0m\u001b[0mstd\u001b[0m\u001b[0;34m(\u001b[0m\u001b[0maxis\u001b[0m\u001b[0;34m=\u001b[0m\u001b[0maxis\u001b[0m\u001b[0;34m,\u001b[0m \u001b[0mddof\u001b[0m\u001b[0;34m=\u001b[0m\u001b[0mddof\u001b[0m\u001b[0;34m)\u001b[0m\u001b[0;34m\u001b[0m\u001b[0;34m\u001b[0m\u001b[0m\n\u001b[1;32m   2277\u001b[0m     \u001b[0;32mif\u001b[0m \u001b[0maxis\u001b[0m \u001b[0;32mand\u001b[0m \u001b[0mmns\u001b[0m\u001b[0;34m.\u001b[0m\u001b[0mndim\u001b[0m \u001b[0;34m<\u001b[0m \u001b[0ma\u001b[0m\u001b[0;34m.\u001b[0m\u001b[0mndim\u001b[0m\u001b[0;34m:\u001b[0m\u001b[0;34m\u001b[0m\u001b[0;34m\u001b[0m\u001b[0m\n",
            "\u001b[0;32m/usr/local/lib/python3.6/dist-packages/numpy/core/_methods.py\u001b[0m in \u001b[0;36m_mean\u001b[0;34m(a, axis, dtype, out, keepdims)\u001b[0m\n\u001b[1;32m     60\u001b[0m \u001b[0;34m\u001b[0m\u001b[0m\n\u001b[1;32m     61\u001b[0m     \u001b[0mis_float16_result\u001b[0m \u001b[0;34m=\u001b[0m \u001b[0;32mFalse\u001b[0m\u001b[0;34m\u001b[0m\u001b[0;34m\u001b[0m\u001b[0m\n\u001b[0;32m---> 62\u001b[0;31m     \u001b[0mrcount\u001b[0m \u001b[0;34m=\u001b[0m \u001b[0m_count_reduce_items\u001b[0m\u001b[0;34m(\u001b[0m\u001b[0marr\u001b[0m\u001b[0;34m,\u001b[0m \u001b[0maxis\u001b[0m\u001b[0;34m)\u001b[0m\u001b[0;34m\u001b[0m\u001b[0;34m\u001b[0m\u001b[0m\n\u001b[0m\u001b[1;32m     63\u001b[0m     \u001b[0;31m# Make this warning show up first\u001b[0m\u001b[0;34m\u001b[0m\u001b[0;34m\u001b[0m\u001b[0;34m\u001b[0m\u001b[0m\n\u001b[1;32m     64\u001b[0m     \u001b[0;32mif\u001b[0m \u001b[0mrcount\u001b[0m \u001b[0;34m==\u001b[0m \u001b[0;36m0\u001b[0m\u001b[0;34m:\u001b[0m\u001b[0;34m\u001b[0m\u001b[0;34m\u001b[0m\u001b[0m\n",
            "\u001b[0;32m/usr/local/lib/python3.6/dist-packages/numpy/core/_methods.py\u001b[0m in \u001b[0;36m_count_reduce_items\u001b[0;34m(arr, axis)\u001b[0m\n\u001b[1;32m     53\u001b[0m     \u001b[0mitems\u001b[0m \u001b[0;34m=\u001b[0m \u001b[0;36m1\u001b[0m\u001b[0;34m\u001b[0m\u001b[0;34m\u001b[0m\u001b[0m\n\u001b[1;32m     54\u001b[0m     \u001b[0;32mfor\u001b[0m \u001b[0max\u001b[0m \u001b[0;32min\u001b[0m \u001b[0maxis\u001b[0m\u001b[0;34m:\u001b[0m\u001b[0;34m\u001b[0m\u001b[0;34m\u001b[0m\u001b[0m\n\u001b[0;32m---> 55\u001b[0;31m         \u001b[0mitems\u001b[0m \u001b[0;34m*=\u001b[0m \u001b[0marr\u001b[0m\u001b[0;34m.\u001b[0m\u001b[0mshape\u001b[0m\u001b[0;34m[\u001b[0m\u001b[0max\u001b[0m\u001b[0;34m]\u001b[0m\u001b[0;34m\u001b[0m\u001b[0;34m\u001b[0m\u001b[0m\n\u001b[0m\u001b[1;32m     56\u001b[0m     \u001b[0;32mreturn\u001b[0m \u001b[0mitems\u001b[0m\u001b[0;34m\u001b[0m\u001b[0;34m\u001b[0m\u001b[0m\n\u001b[1;32m     57\u001b[0m \u001b[0;34m\u001b[0m\u001b[0m\n",
            "\u001b[0;31mIndexError\u001b[0m: tuple index out of range"
          ]
        }
      ]
    }
  ]
}